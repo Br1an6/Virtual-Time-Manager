{
 "cells": [
  {
   "cell_type": "code",
   "execution_count": null,
   "metadata": {},
   "outputs": [],
   "source": [
    "#####################\n",
    "#     VT Ploting    #\n",
    "#####################\n",
    "#  yliu301@iit.edu  #\n",
    "#####################\n",
    "#   plotvtm.ipynb   #\n",
    "#    Version 0.5    #\n",
    "#####################"
   ]
  },
  {
   "cell_type": "code",
   "execution_count": 65,
   "metadata": {},
   "outputs": [],
   "source": [
    "import re\n",
    "import matplotlib.pyplot as plt\n",
    "import numpy as np\n",
    "from datetime import datetime, timedelta\n",
    "import time\n",
    "import operator"
   ]
  },
  {
   "cell_type": "code",
   "execution_count": 58,
   "metadata": {},
   "outputs": [
    {
     "name": "stdout",
     "output_type": "stream",
     "text": [
      "<open file 'vmgm_80.log', mode 'r' at 0x1075ebed0>\n",
      "{'date': '2018-03-19 12:23:00,941', 'text': ' Starting Service ID: #2', 'type': ' root '}\n",
      "{'date': '2018-03-19 12:23:00,951', 'text': ' Connection Manager Started: 1521480180.950768948', 'type': ' root '}\n",
      "{'date': '2018-03-19 12:23:00,960', 'text': ' Host Activities Started: 1521480180.959573984', 'type': ' root '}\n",
      "<open file 'vmgm_189.log', mode 'r' at 0x1075ebed0>\n",
      "{'date': '2018-03-19 12:23:00,813', 'text': ' Starting Service ID: #1', 'type': ' root '}\n",
      "{'date': '2018-03-19 12:23:00,824', 'text': ' Connection Manager Started: 1521480180.822966099', 'type': ' root '}\n",
      "{'date': '2018-03-19 12:23:00,832', 'text': ' Host Activities Started: 1521480180.831728935', 'type': ' root '}\n"
     ]
    }
   ],
   "source": [
    "def matchDate(line):\n",
    "    matchThis = \"\"\n",
    "    matched = re.match(r'\\d\\d\\d\\d-\\d\\d-\\d\\d\\ \\d\\d:\\d\\d:\\d\\d',line)\n",
    "    if matched:\n",
    "        #matches a date and adds it to matchThis            \n",
    "        matchThis = matched.group() \n",
    "    else:\n",
    "        matchThis = \"NONE\"\n",
    "    return matchThis\n",
    "\n",
    "\n",
    "def generateDicts(log_fh):\n",
    "    \"\"\"\n",
    "    Arg:\n",
    "    log_fh...file\n",
    "    Return:\n",
    "    currentDict..dict\n",
    "    \"\"\"\n",
    "    currentDict = {}\n",
    "    for line in log_fh:\n",
    "        if line.startswith(matchDate(line)):\n",
    "            if currentDict:\n",
    "                yield currentDict\n",
    "            currentDict = {\"date\":line.split(\"__\")[0][:23],\"type\":line.split(\"-\",5)[3],\"text\":line.split(\"-\",5)[-1].rstrip()}\n",
    "        else:\n",
    "            currentDict[\"text\"] += line\n",
    "    yield currentDict\n",
    "\n",
    "\n",
    "vtmfiles = ['vmgm_80.log', 'vmgm_189.log'] # Put vtmg files\n",
    "list_parsed_files = []\n",
    "for i, f in enumerate(vtmfiles):\n",
    "    with open(f) as f:\n",
    "        listNew= list(generateDicts(f)) # list contains dict\n",
    "        print f\n",
    "        print listNew[0] # Start date\n",
    "        print listNew[1] # Start Connection Manager\n",
    "        print listNew[2] # Start Host Activities\n",
    "    list_parsed_files.append(listNew)"
   ]
  },
  {
   "cell_type": "code",
   "execution_count": 59,
   "metadata": {},
   "outputs": [
    {
     "name": "stdout",
     "output_type": "stream",
     "text": [
      "Sample (First file first line):  ['VT-GPIO_TEST:', 'Initializing', 'the', 'Virtual', 'Time', 'GPIO_TEST', 'LKM']\n"
     ]
    }
   ],
   "source": [
    "_datetime_format = \"%Y-%m-%d %H:%M:%S\"\n",
    "_dmesg_line_regex = re.compile(\"^\\[\\s*(?P<time>\\d+\\.\\d+)\\](?P<line>.*)$\")\n",
    "dmgfiles = ['dmesg_80.log', 'dmesg_189.log']\n",
    "\n",
    "list_dmgFiles = [] # list in list\n",
    "\n",
    "for i, f in enumerate(dmgfiles):\n",
    "    with open(f) as dmesg_data:\n",
    "        list_parsedMsg = []\n",
    "        for line in dmesg_data:\n",
    "            if not line:\n",
    "                continue\n",
    "            match = _dmesg_line_regex.match(line)\n",
    "            if match:\n",
    "                try:\n",
    "                    # seconds = int(match.groupdict().get('time', '').split('.')[0])\n",
    "                    #nanoseconds = int(match.groupdict().get('time', '').split('.')[1])\n",
    "                    # microseconds = int(round(nanoseconds * 0.001))\n",
    "                    line = match.groupdict().get('line', '')\n",
    "                    list_parsedMsg.append(line.split())\n",
    "                    # t = timedelta(seconds=seconds, microseconds=microseconds)\n",
    "                except IndexError:\n",
    "                    pass\n",
    "        \n",
    "        list_dmgFiles.append(list_parsedMsg)\n",
    "print \"Sample (First file first line): \", list_dmgFiles[0][0]"
   ]
  },
  {
   "cell_type": "code",
   "execution_count": 60,
   "metadata": {},
   "outputs": [
    {
     "name": "stdout",
     "output_type": "stream",
     "text": [
      "Pi_ 1 : \n",
      "Start time for NetCoor:  1521480180.950768948\n",
      "Start time for HostAct:  1521480180.959573984\n",
      "Pi_ 2 : \n",
      "Start time for NetCoor:  1521480180.822966099\n",
      "Start time for HostAct:  1521480180.831728935\n"
     ]
    },
    {
     "data": {
      "image/png": "[encoded data removed]",
      "text/plain": [
       "<Figure size 432x288 with 1 Axes>"
      ]
     },
     "metadata": {},
     "output_type": "display_data"
    }
   ],
   "source": [
    "# Graph of pause by NC and HA: Pause time - start time\n",
    "colors = ['r', 'b', 'g', 'k', 'm']\n",
    "fig = plt.figure()\n",
    "fig.suptitle(str(len(list_parsed_files)) +'Pis_Pausing Clock', fontsize=20)\n",
    "axis = plt.gca().xaxis\n",
    "leg_list = []\n",
    "\n",
    "for i, fd in enumerate(list_parsed_files):\n",
    "    start_time_NC = fd[1][\"text\"].split(': ')[1]\n",
    "    start_time_HA = fd[2][\"text\"].split(': ')[1]\n",
    "    print 'Pi_', i+1,': '\n",
    "    print 'Start time for NetCoor: ', start_time_NC\n",
    "    print 'Start time for HostAct: ', start_time_HA\n",
    "    \n",
    "    x = [float(item[\"text\"].split()[1]) - float(start_time_HA) for item in fd[3:] if item[\"text\"].split()[0] == \"Host_System_pasuing:\"]\n",
    "    y = [float(item[\"text\"].split()[1]) - float(start_time_NC) for item in fd[3:] if item[\"text\"].split()[0] == \"NCProcHandler_Stop_Services:\"]\n",
    "    leg_list.append('Pi_'+str(i+1))\n",
    "    plt.scatter(x,y, color=colors[i])\n",
    "\n",
    "#for label in axis.get_ticklabels():\n",
    "#    label.set_rotation(90)\n",
    "plt.xlabel('Paused by Host (VT) (Sec)', fontsize=16)\n",
    "plt.ylabel('Paused by NetCoor (Sec)', fontsize=16)\n",
    "plt.legend(leg_list)\n",
    "plt.show()"
   ]
  },
  {
   "cell_type": "code",
   "execution_count": 64,
   "metadata": {},
   "outputs": [
    {
     "name": "stdout",
     "output_type": "stream",
     "text": [
      "Pi_ 1 : \n",
      "Start time for NetCoor:  1521480180.950768948\n",
      "Start time for HostAct:  1521480180.959573984\n",
      "Pi_ 2 : \n",
      "Start time for NetCoor:  1521480180.822966099\n",
      "Start time for HostAct:  1521480180.831728935\n"
     ]
    },
    {
     "data": {
      "image/png": "[encoded data removed]",
      "text/plain": [
       "<Figure size 432x288 with 1 Axes>"
      ]
     },
     "metadata": {},
     "output_type": "display_data"
    }
   ],
   "source": [
    "# Graph of pause by NC to VTGPIO: Pause time\n",
    "fig = plt.figure()\n",
    "fig.suptitle(str(len(list_parsed_files)) +'Pis - NC to VTGPIO', fontsize=20)\n",
    "axis = plt.gca().xaxis\n",
    "leg_list = []\n",
    "for i, fd in enumerate(list_parsed_files):\n",
    "    start_time_NC = fd[1][\"text\"].split(': ')[1]\n",
    "    start_time_HA = fd[2][\"text\"].split(': ')[1]\n",
    "    print 'Pi_', i+1,': '\n",
    "    print 'Start time for NetCoor: ', start_time_NC\n",
    "    print 'Start time for HostAct: ', start_time_HA\n",
    "    \n",
    "    x = [float(item[\"text\"].split()[1]) for item in fd[3:] if item[\"text\"].split()[0] == \"NCProcHandler_Stop_Services:\"]\n",
    "    y = []\n",
    "    for i2, item in enumerate(list_dmgFiles[i]):\n",
    "        if list_dmgFiles[i][i2-1][-1] == 'pause':\n",
    "            y.append(float(item[-3] + '.' + item[-2]))\n",
    "\n",
    "    y2 = map(operator.sub, y, x)    \n",
    "    x2 = [ind+1 for ind in range(len(y))]\n",
    "    leg_list.append('Pi_'+str(i+1))\n",
    "    plt.plot(x2, y2, color=colors[i])\n",
    "    \n",
    "plt.xlabel('N-th Pasuing', fontsize=16)\n",
    "plt.ylabel('NC to VTGPIO (Sec)', fontsize=16)\n",
    "plt.legend(leg_list)\n",
    "plt.show()"
   ]
  },
  {
   "cell_type": "code",
   "execution_count": null,
   "metadata": {},
   "outputs": [],
   "source": []
  }
 ],
 "metadata": {
  "kernelspec": {
   "display_name": "Python 2",
   "language": "python",
   "name": "python2"
  },
  "language_info": {
   "codemirror_mode": {
    "name": "ipython",
    "version": 2
   },
   "file_extension": ".py",
   "mimetype": "text/x-python",
   "name": "python",
   "nbconvert_exporter": "python",
   "pygments_lexer": "ipython2",
   "version": "2.7.10"
  }
 },
 "nbformat": 4,
 "nbformat_minor": 2
}
